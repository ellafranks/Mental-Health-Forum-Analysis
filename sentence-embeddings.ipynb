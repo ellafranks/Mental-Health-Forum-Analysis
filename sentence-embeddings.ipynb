{
 "cells": [
  {
   "cell_type": "code",
   "execution_count": 165,
   "metadata": {
    "ExecuteTime": {
     "end_time": "2021-05-21T12:57:27.827057Z",
     "start_time": "2021-05-21T12:57:27.802904Z"
    }
   },
   "outputs": [],
   "source": [
    "import seaborn as sns\n",
    "import pandas as pd\n",
    "import numpy as np\n",
    "\n",
    "import re\n",
    "\n",
    "import pickle\n",
    "\n",
    "from sentence_transformers import SentenceTransformer\n",
    "\n",
    "from sklearn.manifold import TSNE\n",
    "\n",
    "from sklearn.model_selection import train_test_split\n",
    "from sklearn.metrics import confusion_matrix\n",
    "from sklearn.ensemble import RandomForestClassifier\n",
    "from sklearn import svm\n",
    "from sklearn.model_selection import cross_val_score, cross_val_predict\n",
    "from sklearn.metrics import classification_report\n",
    "\n",
    "from itertools import cycle\n",
    "import umap\n",
    "import umap.plot"
   ]
  },
  {
   "cell_type": "markdown",
   "metadata": {},
   "source": [
    "---"
   ]
  },
  {
   "cell_type": "markdown",
   "metadata": {},
   "source": [
    "Merging all .json files together and saving final version"
   ]
  },
  {
   "cell_type": "code",
   "execution_count": 2,
   "metadata": {
    "ExecuteTime": {
     "end_time": "2021-05-21T11:16:34.809293Z",
     "start_time": "2021-05-21T11:13:34.466209Z"
    }
   },
   "outputs": [],
   "source": [
    "import json\n",
    "import glob\n",
    "\n",
    "result = []\n",
    "for f in glob.glob(\"/Users/ella.franks/PycharmProjects/redditscrape/data/*.json\"):\n",
    "    with open(f, \"rb\") as infile:\n",
    "        result.append(json.load(infile))"
   ]
  },
  {
   "cell_type": "code",
   "execution_count": 3,
   "metadata": {
    "ExecuteTime": {
     "end_time": "2021-05-21T11:16:38.705142Z",
     "start_time": "2021-05-21T11:16:34.812664Z"
    }
   },
   "outputs": [],
   "source": [
    "with open('2021merged.json', 'w') as f:\n",
    "    json.dump(result, f)"
   ]
  },
  {
   "cell_type": "markdown",
   "metadata": {},
   "source": [
    "---"
   ]
  },
  {
   "cell_type": "markdown",
   "metadata": {},
   "source": [
    "Prepping data - chose to leave the data as it was and do minimal cleaning to maintain information."
   ]
  },
  {
   "cell_type": "code",
   "execution_count": 4,
   "metadata": {
    "ExecuteTime": {
     "end_time": "2021-05-21T11:16:38.721035Z",
     "start_time": "2021-05-21T11:16:38.711112Z"
    }
   },
   "outputs": [],
   "source": [
    "def remove(cell):\n",
    "    cell = re.sub(r'\\d+', '', cell)\n",
    "    if cell == '[removed]' or cell == '[deleted]':\n",
    "        return np.nan\n",
    "    else:\n",
    "        return cell"
   ]
  },
  {
   "cell_type": "code",
   "execution_count": 5,
   "metadata": {
    "ExecuteTime": {
     "end_time": "2021-05-21T11:16:38.734100Z",
     "start_time": "2021-05-21T11:16:38.726078Z"
    }
   },
   "outputs": [],
   "source": [
    "def create_data(data):\n",
    "    df = pd.DataFrame(data)\n",
    "    df.drop_duplicates('body', keep='first', inplace=True)\n",
    "    df['body'] = df['body'].apply(lambda x: remove(x))\n",
    "    df.dropna(subset=['body'], inplace=True)\n",
    "    df['body'] = df['body'].apply(lambda x: x.strip('\\n'))\n",
    "    df = df.reset_index(drop=True)\n",
    "    return df"
   ]
  },
  {
   "cell_type": "markdown",
   "metadata": {},
   "source": [
    "---"
   ]
  },
  {
   "cell_type": "markdown",
   "metadata": {},
   "source": [
    "Fine-tune your own sentence embedding method using S-BERT, so that you get task-specific sentence embedding with an even better understanding of language and context. \n",
    "Even though this is not as fast as using avg word embeddings (like GLOVE), it’s one of the fastest transformers and is computationally efficient. This is because words can be processed simultaneously. S-BERT is also better at capturing the true context as its truly bidirectional. \n",
    "- S-BERT turns each sentence into a 768 dimension vector, taking the position of the word in the sentence into consideration\n",
    "- This is so semantically similar sentences are mapped closer together \n"
   ]
  },
  {
   "cell_type": "code",
   "execution_count": 92,
   "metadata": {
    "ExecuteTime": {
     "end_time": "2021-05-21T11:45:37.106425Z",
     "start_time": "2021-05-21T11:45:34.121429Z"
    }
   },
   "outputs": [],
   "source": [
    "model = SentenceTransformer('/Users/ella.franks/Desktop/Projects/Datasets/paraphrase-distilroberta-base-v1')"
   ]
  },
  {
   "cell_type": "markdown",
   "metadata": {},
   "source": [
    "---"
   ]
  },
  {
   "cell_type": "markdown",
   "metadata": {},
   "source": [
    "Decided to cut up the data differently, into 3 groups representing extreme positive, extreme negative and neutral values"
   ]
  },
  {
   "cell_type": "code",
   "execution_count": 271,
   "metadata": {
    "ExecuteTime": {
     "end_time": "2021-05-21T14:43:52.176220Z",
     "start_time": "2021-05-21T14:43:50.632518Z"
    }
   },
   "outputs": [],
   "source": [
    "df = create_data(result)\n",
    "df = df[['score', 'author', 'body']]"
   ]
  },
  {
   "cell_type": "code",
   "execution_count": 272,
   "metadata": {
    "ExecuteTime": {
     "end_time": "2021-05-21T14:43:59.830246Z",
     "start_time": "2021-05-21T14:43:59.824334Z"
    }
   },
   "outputs": [],
   "source": [
    "def cut_comment(score):\n",
    "    if score == 0:\n",
    "        return 0\n",
    "    elif score > 10:\n",
    "        return 1\n",
    "    elif score < 0:\n",
    "        return -1"
   ]
  },
  {
   "cell_type": "code",
   "execution_count": 273,
   "metadata": {
    "ExecuteTime": {
     "end_time": "2021-05-21T14:44:00.575617Z",
     "start_time": "2021-05-21T14:44:00.533322Z"
    }
   },
   "outputs": [],
   "source": [
    "df.score = df.score.apply(cut_comment)\n",
    "df.dropna(inplace=True)\n",
    "df = df.reset_index().rename(columns={'index':'old_index'})"
   ]
  },
  {
   "cell_type": "code",
   "execution_count": 274,
   "metadata": {
    "ExecuteTime": {
     "end_time": "2021-05-21T14:44:01.133431Z",
     "start_time": "2021-05-21T14:44:01.107590Z"
    }
   },
   "outputs": [
    {
     "data": {
      "text/plain": [
       " 0.0    0.404435\n",
       " 1.0    0.369588\n",
       "-1.0    0.225977\n",
       "Name: score, dtype: float64"
      ]
     },
     "execution_count": 274,
     "metadata": {},
     "output_type": "execute_result"
    }
   ],
   "source": [
    "df.score.value_counts(normalize=True)"
   ]
  },
  {
   "cell_type": "code",
   "execution_count": 276,
   "metadata": {
    "ExecuteTime": {
     "end_time": "2021-05-21T14:45:50.610124Z",
     "start_time": "2021-05-21T14:44:32.768271Z"
    }
   },
   "outputs": [],
   "source": [
    "embds = model.encode(df.body)"
   ]
  },
  {
   "cell_type": "markdown",
   "metadata": {},
   "source": [
    "---"
   ]
  },
  {
   "cell_type": "markdown",
   "metadata": {},
   "source": [
    "Let's see if we can spot any patterns in the data using umap or tsne"
   ]
  },
  {
   "cell_type": "code",
   "execution_count": 278,
   "metadata": {
    "ExecuteTime": {
     "end_time": "2021-05-21T14:46:04.069817Z",
     "start_time": "2021-05-21T14:46:02.873137Z"
    }
   },
   "outputs": [],
   "source": [
    "X_embedded = TSNE(random_state=1, n_jobs=-1).fit_transform(np.array(X_test))"
   ]
  },
  {
   "cell_type": "code",
   "execution_count": 279,
   "metadata": {
    "ExecuteTime": {
     "end_time": "2021-05-21T14:46:04.564934Z",
     "start_time": "2021-05-21T14:46:04.072289Z"
    }
   },
   "outputs": [
    {
     "data": {
      "image/png": "[encoded data removed]",
      "text/plain": [
       "<Figure size 432x288 with 1 Axes>"
      ]
     },
     "metadata": {
      "needs_background": "light"
     },
     "output_type": "display_data"
    }
   ],
   "source": [
    "sns.scatterplot(x= X_embedded[:,0], y=X_embedded[:, 1], hue=y_test);"
   ]
  },
  {
   "cell_type": "code",
   "execution_count": 283,
   "metadata": {
    "ExecuteTime": {
     "end_time": "2021-05-21T14:46:36.647755Z",
     "start_time": "2021-05-21T14:46:34.020376Z"
    }
   },
   "outputs": [],
   "source": [
    "X_umap_embedding = umap.UMAP(n_components=2).fit(np.array(X_test))"
   ]
  },
  {
   "cell_type": "code",
   "execution_count": 284,
   "metadata": {
    "ExecuteTime": {
     "end_time": "2021-05-21T14:46:36.909815Z",
     "start_time": "2021-05-21T14:46:36.653530Z"
    }
   },
   "outputs": [
    {
     "data": {
      "text/plain": [
       "<AxesSubplot:>"
      ]
     },
     "execution_count": 284,
     "metadata": {},
     "output_type": "execute_result"
    },
    {
     "data": {
      "image/png": "[encoded data removed]",
      "text/plain": [
       "<Figure size 800x800 with 1 Axes>"
      ]
     },
     "metadata": {},
     "output_type": "display_data"
    }
   ],
   "source": [
    "umap.plot.points(X_umap_embedding, labels=y_test,theme='fire')"
   ]
  },
  {
   "cell_type": "markdown",
   "metadata": {},
   "source": [
    "Doesn't look like there are clear groupings between classes."
   ]
  },
  {
   "cell_type": "markdown",
   "metadata": {},
   "source": [
    "---"
   ]
  },
  {
   "cell_type": "markdown",
   "metadata": {},
   "source": [
    "Using random forest and embeddings"
   ]
  },
  {
   "cell_type": "code",
   "execution_count": 304,
   "metadata": {
    "ExecuteTime": {
     "end_time": "2021-05-21T14:52:29.628086Z",
     "start_time": "2021-05-21T14:52:29.618908Z"
    }
   },
   "outputs": [],
   "source": [
    "X_train, X_test, y_train, y_test = train_test_split(embds, df.score, test_size=0.2, shuffle=True, random_state=1)"
   ]
  },
  {
   "cell_type": "code",
   "execution_count": 305,
   "metadata": {
    "ExecuteTime": {
     "end_time": "2021-05-21T14:52:31.492116Z",
     "start_time": "2021-05-21T14:52:30.792815Z"
    }
   },
   "outputs": [
    {
     "data": {
      "text/plain": [
       "RandomForestClassifier(max_depth=5, random_state=1)"
      ]
     },
     "execution_count": 305,
     "metadata": {},
     "output_type": "execute_result"
    }
   ],
   "source": [
    "rf = RandomForestClassifier(max_depth=5, random_state=1)\n",
    "rf.fit(X_train, y_train)"
   ]
  },
  {
   "cell_type": "code",
   "execution_count": 306,
   "metadata": {
    "ExecuteTime": {
     "end_time": "2021-05-21T14:52:32.046112Z",
     "start_time": "2021-05-21T14:52:32.004109Z"
    }
   },
   "outputs": [
    {
     "data": {
      "text/plain": [
       "array([[ 69,  73,  24],\n",
       "       [  0, 311,   1],\n",
       "       [  0,  10, 269]])"
      ]
     },
     "execution_count": 306,
     "metadata": {},
     "output_type": "execute_result"
    }
   ],
   "source": [
    "confusion_matrix(y_train, rf.predict(X_train))"
   ]
  },
  {
   "cell_type": "code",
   "execution_count": 307,
   "metadata": {
    "ExecuteTime": {
     "end_time": "2021-05-21T14:52:33.492245Z",
     "start_time": "2021-05-21T14:52:33.466096Z"
    }
   },
   "outputs": [
    {
     "data": {
      "text/plain": [
       "array([[ 0, 38, 10],\n",
       "       [ 0, 50, 21],\n",
       "       [ 0, 47, 24]])"
      ]
     },
     "execution_count": 307,
     "metadata": {},
     "output_type": "execute_result"
    }
   ],
   "source": [
    "confusion_matrix(y_test, rf.predict(X_test))"
   ]
  },
  {
   "cell_type": "code",
   "execution_count": 289,
   "metadata": {
    "ExecuteTime": {
     "end_time": "2021-05-21T14:47:56.562162Z",
     "start_time": "2021-05-21T14:47:56.526063Z"
    }
   },
   "outputs": [
    {
     "name": "stdout",
     "output_type": "stream",
     "text": [
      "              precision    recall  f1-score   support\n",
      "\n",
      "          -1       1.00      0.00      0.00        48\n",
      "           0       0.37      0.70      0.49        71\n",
      "           1       0.44      0.34      0.38        71\n",
      "\n",
      "    accuracy                           0.39       190\n",
      "   macro avg       0.60      0.35      0.29       190\n",
      "weighted avg       0.55      0.39      0.32       190\n",
      "\n"
     ]
    }
   ],
   "source": [
    "print(classification_report(y_test, rf.predict(X_test), labels=[-1,0,1], zero_division=1))"
   ]
  },
  {
   "cell_type": "markdown",
   "metadata": {},
   "source": [
    "Performs badly on the negative and neutral classes. Lets go for an algo thats better at dealing with imbalenced classes. "
   ]
  },
  {
   "cell_type": "markdown",
   "metadata": {},
   "source": [
    "---"
   ]
  },
  {
   "cell_type": "markdown",
   "metadata": {},
   "source": [
    "SVM good at dealing with imbalenced classes"
   ]
  },
  {
   "cell_type": "code",
   "execution_count": 290,
   "metadata": {
    "ExecuteTime": {
     "end_time": "2021-05-21T14:48:05.482651Z",
     "start_time": "2021-05-21T14:48:04.178577Z"
    }
   },
   "outputs": [
    {
     "data": {
      "text/plain": [
       "SVC(class_weight='balanced', decision_function_shape='ovo', probability=True,\n",
       "    random_state=1)"
      ]
     },
     "execution_count": 290,
     "metadata": {},
     "output_type": "execute_result"
    }
   ],
   "source": [
    "clf = svm.SVC(decision_function_shape='ovo', class_weight='balanced', probability=True, random_state=1)\n",
    "clf.fit(X_train, y_train)"
   ]
  },
  {
   "cell_type": "code",
   "execution_count": 291,
   "metadata": {
    "ExecuteTime": {
     "end_time": "2021-05-21T14:48:06.423560Z",
     "start_time": "2021-05-21T14:48:06.026506Z"
    }
   },
   "outputs": [
    {
     "data": {
      "text/plain": [
       "array([[155,   6,   5],\n",
       "       [  9, 276,  27],\n",
       "       [  9,  12, 258]])"
      ]
     },
     "execution_count": 291,
     "metadata": {},
     "output_type": "execute_result"
    }
   ],
   "source": [
    "confusion_matrix(y_train, clf.predict(X_train))"
   ]
  },
  {
   "cell_type": "code",
   "execution_count": 292,
   "metadata": {
    "ExecuteTime": {
     "end_time": "2021-05-21T14:48:07.341369Z",
     "start_time": "2021-05-21T14:48:07.206763Z"
    }
   },
   "outputs": [
    {
     "data": {
      "text/plain": [
       "array([[18, 17, 13],\n",
       "       [19, 33, 19],\n",
       "       [13, 21, 37]])"
      ]
     },
     "execution_count": 292,
     "metadata": {},
     "output_type": "execute_result"
    }
   ],
   "source": [
    "confusion_matrix(y_test, clf.predict(X_test))"
   ]
  },
  {
   "cell_type": "code",
   "execution_count": 308,
   "metadata": {
    "ExecuteTime": {
     "end_time": "2021-05-21T14:52:58.579585Z",
     "start_time": "2021-05-21T14:52:58.429797Z"
    }
   },
   "outputs": [
    {
     "data": {
      "text/plain": [
       "0.4631578947368421"
      ]
     },
     "execution_count": 308,
     "metadata": {},
     "output_type": "execute_result"
    }
   ],
   "source": [
    "clf.score(X_test, y_test)"
   ]
  },
  {
   "cell_type": "code",
   "execution_count": 173,
   "metadata": {
    "ExecuteTime": {
     "end_time": "2021-05-21T13:00:34.020689Z",
     "start_time": "2021-05-21T13:00:33.784090Z"
    },
    "scrolled": true
   },
   "outputs": [
    {
     "name": "stdout",
     "output_type": "stream",
     "text": [
      "              precision    recall  f1-score   support\n",
      "\n",
      "          -1       0.22      0.34      0.27        35\n",
      "           0       0.40      0.40      0.40        78\n",
      "           1       0.73      0.64      0.68       158\n",
      "\n",
      "    accuracy                           0.53       271\n",
      "   macro avg       0.45      0.46      0.45       271\n",
      "weighted avg       0.57      0.53      0.55       271\n",
      "\n"
     ]
    }
   ],
   "source": [
    "print(classification_report(y_test, clf.predict(X_test), labels=[-1,0,1], zero_division=1))"
   ]
  },
  {
   "cell_type": "code",
   "execution_count": 322,
   "metadata": {
    "ExecuteTime": {
     "end_time": "2021-05-21T14:58:29.423083Z",
     "start_time": "2021-05-21T14:58:29.419020Z"
    }
   },
   "outputs": [],
   "source": [
    "results = pd.DataFrame({'actual': y_test, \n",
    "              'pred':clf.predict(X_test),\n",
    "              'pred_prob':clf.predict_proba(X_test).max(axis=1)})\n",
    "\n",
    "results[(results['pred_prob']>0.55)&(results['pred_prob']<0.9)][['actual', 'pred']].all(axis=1).mean()"
   ]
  },
  {
   "cell_type": "markdown",
   "metadata": {},
   "source": [
    "Important to identify class 1 and -1. Right now, doing well on positive and neutral classes. Should tune this towards the negative class. "
   ]
  },
  {
   "cell_type": "markdown",
   "metadata": {},
   "source": [
    "---"
   ]
  },
  {
   "cell_type": "markdown",
   "metadata": {},
   "source": [
    "Using onevs rest methods to plot ROC curve of all 3 classes."
   ]
  },
  {
   "cell_type": "code",
   "execution_count": 251,
   "metadata": {
    "ExecuteTime": {
     "end_time": "2021-05-21T14:20:27.620077Z",
     "start_time": "2021-05-21T14:20:27.564128Z"
    }
   },
   "outputs": [],
   "source": [
    "from sklearn.multiclass import OneVsRestClassifier\n",
    "from sklearn.metrics import roc_curve, auc\n",
    "import matplotlib.pyplot as plt\n",
    "from sklearn.metrics import roc_auc_score"
   ]
  },
  {
   "cell_type": "code",
   "execution_count": 315,
   "metadata": {
    "ExecuteTime": {
     "end_time": "2021-05-21T14:57:11.640653Z",
     "start_time": "2021-05-21T14:57:11.634624Z"
    }
   },
   "outputs": [],
   "source": [
    "y = label_binarize(df.score, classes=[-1, 0, 1])"
   ]
  },
  {
   "cell_type": "code",
   "execution_count": 316,
   "metadata": {
    "ExecuteTime": {
     "end_time": "2021-05-21T14:57:11.909498Z",
     "start_time": "2021-05-21T14:57:11.899646Z"
    }
   },
   "outputs": [],
   "source": [
    "X_train, X_test, y_train, y_test = train_test_split(embds, y, test_size=0.2, shuffle=True, random_state=1)"
   ]
  },
  {
   "cell_type": "code",
   "execution_count": 317,
   "metadata": {
    "ExecuteTime": {
     "end_time": "2021-05-21T14:57:16.816949Z",
     "start_time": "2021-05-21T14:57:12.145548Z"
    }
   },
   "outputs": [],
   "source": [
    "classifier = OneVsRestClassifier(svm.SVC(decision_function_shape='ovo', \n",
    "                                         class_weight='balanced', \n",
    "                                         probability=True, \n",
    "                                         random_state=1))\n",
    "y_score = classifier.fit(X_train, y_train).decision_function(X_test)"
   ]
  },
  {
   "cell_type": "code",
   "execution_count": 318,
   "metadata": {
    "ExecuteTime": {
     "end_time": "2021-05-21T14:57:16.838219Z",
     "start_time": "2021-05-21T14:57:16.819600Z"
    }
   },
   "outputs": [],
   "source": [
    "fpr = dict()\n",
    "tpr = dict()\n",
    "roc_auc = dict()\n",
    "n_classes = y.shape[1]\n",
    "\n",
    "for i in range(n_classes):\n",
    "    fpr[i], tpr[i], _ = roc_curve(y_test[:, i], y_score[:, i])\n",
    "    roc_auc[i] = auc(fpr[i], tpr[i])\n",
    "\n",
    "# Compute micro-average ROC curve and ROC area\n",
    "fpr[\"micro\"], tpr[\"micro\"], _ = roc_curve(y_test.ravel(), y_score.ravel())\n",
    "roc_auc[\"micro\"] = auc(fpr[\"micro\"], tpr[\"micro\"])"
   ]
  },
  {
   "cell_type": "code",
   "execution_count": 319,
   "metadata": {
    "ExecuteTime": {
     "end_time": "2021-05-21T14:57:17.136785Z",
     "start_time": "2021-05-21T14:57:16.846198Z"
    }
   },
   "outputs": [
    {
     "data": {
      "image/png": "[encoded data removed]",
      "text/plain": [
       "<Figure size 432x288 with 1 Axes>"
      ]
     },
     "metadata": {
      "needs_background": "light"
     },
     "output_type": "display_data"
    }
   ],
   "source": [
    "all_fpr = np.unique(np.concatenate([fpr[i] for i in range(n_classes)]))\n",
    "\n",
    "# Then interpolate all ROC curves at this points\n",
    "mean_tpr = np.zeros_like(all_fpr)\n",
    "for i in range(n_classes):\n",
    "    mean_tpr += np.interp(all_fpr, fpr[i], tpr[i])\n",
    "\n",
    "# Finally average it and compute AUC\n",
    "mean_tpr /= n_classes\n",
    "\n",
    "fpr[\"macro\"] = all_fpr\n",
    "tpr[\"macro\"] = mean_tpr\n",
    "roc_auc[\"macro\"] = auc(fpr[\"macro\"], tpr[\"macro\"])\n",
    "\n",
    "lw = 2\n",
    "# Plot all ROC curves\n",
    "plt.figure()\n",
    "plt.plot(fpr[\"micro\"], tpr[\"micro\"],\n",
    "         label='micro-average ROC curve (area = {0:0.2f})'\n",
    "               ''.format(roc_auc[\"micro\"]),\n",
    "         color='deeppink', linestyle=':', linewidth=4)\n",
    "\n",
    "plt.plot(fpr[\"macro\"], tpr[\"macro\"],\n",
    "         label='macro-average ROC curve (area = {0:0.2f})'\n",
    "               ''.format(roc_auc[\"macro\"]),\n",
    "         color='navy', linestyle=':', linewidth=4)\n",
    "\n",
    "colors = cycle(['aqua', 'darkorange', 'cornflowerblue'])\n",
    "for i, color in zip(range(n_classes), colors):\n",
    "    plt.plot(fpr[i], tpr[i], color=color, lw=lw,\n",
    "             label='ROC curve of class {0} (area = {1:0.2f})'\n",
    "             ''.format(i, roc_auc[i]))\n",
    "\n",
    "plt.plot([0, 1], [0, 1], 'k--', lw=lw)\n",
    "plt.xlim([0.0, 1.0])\n",
    "plt.ylim([0.0, 1.05])\n",
    "plt.xlabel('False Positive Rate')\n",
    "plt.ylabel('True Positive Rate')\n",
    "plt.title('Some extension of Receiver operating characteristic to multi-class')\n",
    "plt.legend(loc=\"lower right\")\n",
    "plt.show()"
   ]
  },
  {
   "cell_type": "markdown",
   "metadata": {},
   "source": [
    "Reassuring that class low and high scoring comments have a higher ROC curve than the neutral class. "
   ]
  },
  {
   "cell_type": "markdown",
   "metadata": {},
   "source": [
    "---"
   ]
  }
 ],
 "metadata": {
  "kernelspec": {
   "display_name": "capstone",
   "language": "python",
   "name": "capstone"
  },
  "language_info": {
   "codemirror_mode": {
    "name": "ipython",
    "version": 3
   },
   "file_extension": ".py",
   "mimetype": "text/x-python",
   "name": "python",
   "nbconvert_exporter": "python",
   "pygments_lexer": "ipython3",
   "version": "3.8.8"
  }
 },
 "nbformat": 4,
 "nbformat_minor": 4
}
