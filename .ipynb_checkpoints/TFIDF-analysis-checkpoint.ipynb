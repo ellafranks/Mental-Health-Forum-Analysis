{
 "cells": [
  {
   "cell_type": "markdown",
   "metadata": {},
   "source": [
    "# Modelling and Analysis - SuicideWatch\n",
    "\n",
    "- Import and process data\n",
    "- Transform to sparse matrix \n",
    "- TfidfV and downsampling \n",
    "- Import pre trained and optimised model \n",
    "- Analyse confusion matrix, ROC curves \n",
    "- Binarize target metric and manipulate thresholds \n",
    "- Analysis of coefficients "
   ]
  },
  {
   "cell_type": "markdown",
   "metadata": {},
   "source": [
    "## Imports"
   ]
  },
  {
   "cell_type": "code",
   "execution_count": 48,
   "metadata": {
    "ExecuteTime": {
     "end_time": "2020-03-18T10:55:01.701697Z",
     "start_time": "2020-03-18T10:55:01.679674Z"
    }
   },
   "outputs": [],
   "source": [
    "import pandas as pd\n",
    "import numpy as np\n",
    "\n",
    "import re\n",
    "\n",
    "from sklearn.preprocessing import StandardScaler\n",
    "from imblearn.under_sampling import RandomUnderSampler\n",
    "from sklearn.feature_extraction.text import CountVectorizer\n",
    "from sklearn.model_selection import train_test_split, cross_val_score, cross_val_predict, KFold, GridSearchCV\n",
    "from sklearn.linear_model import LogisticRegression\n",
    "from sklearn.feature_extraction.text import TfidfVectorizer\n",
    "from sklearn.metrics import accuracy_score, f1_score, confusion_matrix, recall_score, precision_score\n",
    "\n",
    "from scipy.sparse import csr_matrix\n",
    "\n",
    "import matplotlib.pyplot as plt\n",
    "import seaborn as sns\n",
    "import scikitplot as skplt\n",
    "\n",
    "import joblib\n",
    "\n",
    "from sklearn.preprocessing import label_binarize\n",
    "from sklearn.metrics import classification_report, confusion_matrix, accuracy_score, roc_curve, roc_auc_score\n",
    "from sklearn.metrics import auc, precision_recall_curve, average_precision_score, mean_squared_error\n",
    "\n"
   ]
  },
  {
   "cell_type": "markdown",
   "metadata": {},
   "source": [
    "## SuicideWatch"
   ]
  },
  {
   "cell_type": "markdown",
   "metadata": {},
   "source": [
    "- Having repeated my modelling accross all three forums (anxiety, MentalHealth and SuicideWatch (SW), the accuracy score was highest in the SW. Thus, in the instance where I had most clarity, I focused my modelling and analysis on the SuicideWatch forum. \n",
    "\n",
    "- In the merged dataframe, the accuracy score was 10 percent above baseline, but had the lowest predictive ability compared with when the dataframes were seperate.  This could be due to the subreddit communities having features that uniquely increase or decrease their comment scores.\n"
   ]
  },
  {
   "cell_type": "code",
   "execution_count": 14,
   "metadata": {
    "ExecuteTime": {
     "end_time": "2020-03-18T10:41:27.301202Z",
     "start_time": "2020-03-18T10:41:23.225229Z"
    }
   },
   "outputs": [],
   "source": [
    "sw = pd.read_csv('../Datasets_capstone/sw_final.csv', encoding='utf8', engine='python')\n",
    "del sw['Unnamed: 0']"
   ]
  },
  {
   "cell_type": "code",
   "execution_count": 15,
   "metadata": {
    "ExecuteTime": {
     "end_time": "2020-03-18T10:41:27.422076Z",
     "start_time": "2020-03-18T10:41:27.306645Z"
    }
   },
   "outputs": [],
   "source": [
    "sw.drop_duplicates('comment_body', keep='first', inplace=True)"
   ]
  },
  {
   "cell_type": "code",
   "execution_count": 16,
   "metadata": {
    "ExecuteTime": {
     "end_time": "2020-03-18T10:41:27.433046Z",
     "start_time": "2020-03-18T10:41:27.425292Z"
    }
   },
   "outputs": [],
   "source": [
    "def process_data(cell):\n",
    "    return re.sub(r'\\d+', '', cell)"
   ]
  },
  {
   "cell_type": "code",
   "execution_count": 17,
   "metadata": {
    "ExecuteTime": {
     "end_time": "2020-03-18T10:41:27.639829Z",
     "start_time": "2020-03-18T10:41:27.438358Z"
    }
   },
   "outputs": [],
   "source": [
    "sw.comment_body = sw.comment_body.apply(lambda x: process_data(x))"
   ]
  },
  {
   "cell_type": "markdown",
   "metadata": {},
   "source": [
    "## Optimised tfidf \n",
    "\n",
    "- After performing a grid search and PCA, the optimum parameters found in the TfidfV model were 1,3 ngrams using 5000 features."
   ]
  },
  {
   "cell_type": "code",
   "execution_count": 18,
   "metadata": {
    "ExecuteTime": {
     "end_time": "2020-03-18T10:41:27.652405Z",
     "start_time": "2020-03-18T10:41:27.642662Z"
    }
   },
   "outputs": [],
   "source": [
    "def model(df, n_features, ngram, method):\n",
    "    if method == 'countv': \n",
    "        cvec = CountVectorizer(stop_words='english', max_features=n_features, ngram_range=ngram)\n",
    "        cvec.fit(df)\n",
    "        words = cvec.get_feature_names()\n",
    "        wordcountdf = pd.DataFrame(cvec.transform(df).toarray(), columns = cvec.get_feature_names(), index = df)\n",
    "        print(wordcountdf.shape)\n",
    "        return wordcountdf\n",
    "    else:\n",
    "        tvec = TfidfVectorizer(stop_words='english', max_features=n_features, ngram_range=ngram)\n",
    "        tvec.fit(df)\n",
    "        words2 = tvec.get_feature_names()\n",
    "        worddf2 = pd.DataFrame(tvec.transform(df).toarray(), columns = tvec.get_feature_names(), index = df)\n",
    "        print(worddf2.shape)\n",
    "        return worddf2"
   ]
  },
  {
   "cell_type": "code",
   "execution_count": 19,
   "metadata": {
    "ExecuteTime": {
     "end_time": "2020-03-18T10:41:34.003066Z",
     "start_time": "2020-03-18T10:41:27.658683Z"
    }
   },
   "outputs": [
    {
     "name": "stdout",
     "output_type": "stream",
     "text": [
      "(16275, 5000)\n"
     ]
    }
   ],
   "source": [
    "sw_tf = model(sw.comment_body, 5000, (1,3), 'tf')"
   ]
  },
  {
   "cell_type": "markdown",
   "metadata": {},
   "source": [
    "Here I will visualise the sparsity of my matrix: (very very sparse)\n",
    "- Thus transform it to speed up computations \n",
    "- I ran a number of different classification models, including random forests and bagging models and found logistic regression to perform best."
   ]
  },
  {
   "cell_type": "code",
   "execution_count": 10,
   "metadata": {
    "ExecuteTime": {
     "end_time": "2020-03-18T10:29:06.232083Z",
     "start_time": "2020-03-18T10:29:05.183491Z"
    }
   },
   "outputs": [],
   "source": [
    "sparse_dataset = csr_matrix(sw_tf)"
   ]
  },
  {
   "cell_type": "markdown",
   "metadata": {},
   "source": [
    "There are unequal class sizes when splitting the y variable into 4. I attempted different up and down sampling techniques, including SMOTE and random under sampling.\n",
    "- I chose the random down sampling method as it was computationally the fastest and easy in implementation.\n",
    "- Limitation: Possibly gets rid of important data (randomly downsamples to the smallest class)"
   ]
  },
  {
   "cell_type": "code",
   "execution_count": 51,
   "metadata": {
    "ExecuteTime": {
     "end_time": "2020-03-18T10:55:41.790676Z",
     "start_time": "2020-03-18T10:55:41.772062Z"
    }
   },
   "outputs": [],
   "source": [
    "def sampling(X,y):\n",
    "    y_b = pd.qcut(y, 4, labels = [0,1,2,3])\n",
    "    print(pd.qcut(y, 4).value_counts())\n",
    "    Xs,ys = RandomUnderSampler(replacement=True).fit_resample(X, y_b)\n",
    "    print(Xs.shape, ys.shape)\n",
    "    scaler = StandardScaler()\n",
    "    Xs = pd.DataFrame(scaler.fit_transform(Xs), columns = X.columns)\n",
    "    ys = pd.DataFrame(ys, columns=['comment_score'])\n",
    "    \n",
    "    X_train, X_test, y_train, y_test = train_test_split(Xs, ys, test_size=0.2, random_state=1, shuffle=True)\n",
    "    return X_train, X_test, y_train, y_test"
   ]
  },
  {
   "cell_type": "code",
   "execution_count": 52,
   "metadata": {
    "ExecuteTime": {
     "end_time": "2020-03-18T10:55:52.317138Z",
     "start_time": "2020-03-18T10:55:42.144389Z"
    }
   },
   "outputs": [
    {
     "name": "stdout",
     "output_type": "stream",
     "text": [
      "(1.0, 3.0]        4576\n",
      "(-84.001, 1.0]    4230\n",
      "(10.0, 1125.0]    3791\n",
      "(3.0, 10.0]       3678\n",
      "Name: comment_score, dtype: int64\n",
      "(14712, 5000) (14712,)\n"
     ]
    }
   ],
   "source": [
    "X_traint, X_testt, y_traint, y_testt = sampling(sw_tf, sw.comment_score)"
   ]
  },
  {
   "cell_type": "markdown",
   "metadata": {
    "ExecuteTime": {
     "end_time": "2020-03-17T16:37:38.106654Z",
     "start_time": "2020-03-17T16:37:38.007305Z"
    }
   },
   "source": [
    "Reload optimised and pretrained model\n",
    "- This originally achieved a K fold cross val score of 0.501% and a test score of 0.55%. 30 Percent above baseline.\n",
    "- However, when comments posted within 1 hour prior to data collection were removed, this decreased accuracy to 0.51% and and 0.47% K fold CV score. "
   ]
  },
  {
   "cell_type": "code",
   "execution_count": 54,
   "metadata": {
    "ExecuteTime": {
     "end_time": "2020-03-18T10:56:01.875040Z",
     "start_time": "2020-03-18T10:56:01.814706Z"
    }
   },
   "outputs": [],
   "source": [
    "lr= joblib.load(\"lr_increasegrams.sav\")"
   ]
  },
  {
   "cell_type": "markdown",
   "metadata": {},
   "source": [
    "The baseline is 0.25 - Thus, we want to aim to improve this."
   ]
  },
  {
   "cell_type": "code",
   "execution_count": 14,
   "metadata": {
    "ExecuteTime": {
     "end_time": "2020-03-18T10:29:16.993089Z",
     "start_time": "2020-03-18T10:29:16.845523Z"
    }
   },
   "outputs": [
    {
     "data": {
      "text/plain": [
       "0.25552157662249403"
      ]
     },
     "execution_count": 14,
     "metadata": {},
     "output_type": "execute_result"
    }
   ],
   "source": [
    "y_testt['comment_score'].value_counts(normalize=True).max()"
   ]
  },
  {
   "cell_type": "markdown",
   "metadata": {},
   "source": [
    "Use K fold cross validation because it is a better estimation of out of sample performance"
   ]
  },
  {
   "cell_type": "code",
   "execution_count": 28,
   "metadata": {
    "ExecuteTime": {
     "end_time": "2020-03-18T10:43:54.029085Z",
     "start_time": "2020-03-18T10:43:54.023264Z"
    }
   },
   "outputs": [],
   "source": [
    "kf = KFold(random_state=1)\n",
    "cv = cross_val_score(lr, X_traint, y_traint, cv=kf).mean()"
   ]
  },
  {
   "cell_type": "code",
   "execution_count": 18,
   "metadata": {
    "ExecuteTime": {
     "end_time": "2020-03-18T10:31:26.221947Z",
     "start_time": "2020-03-18T10:31:26.029866Z"
    }
   },
   "outputs": [
    {
     "name": "stdout",
     "output_type": "stream",
     "text": [
      "Training score 0.66\n",
      "Testing score 0.51\n",
      "CV score 0.47\n"
     ]
    }
   ],
   "source": [
    "print('Training score', round(lr.score(X_traint, y_traint),2))\n",
    "print('Testing score', round(lr.score(X_testt, y_testt),2))\n",
    "print('CV score', round(cv,2)"
   ]
  },
  {
   "cell_type": "code",
   "execution_count": 19,
   "metadata": {
    "ExecuteTime": {
     "end_time": "2020-03-18T10:35:54.015576Z",
     "start_time": "2020-03-18T10:35:52.668340Z"
    }
   },
   "outputs": [],
   "source": [
    "training_predictions = lr.predict(X_traint)\n",
    "testing_predictions = lr.predict(X_testt)"
   ]
  },
  {
   "cell_type": "code",
   "execution_count": 20,
   "metadata": {
    "ExecuteTime": {
     "end_time": "2020-03-18T10:35:58.049479Z",
     "start_time": "2020-03-18T10:35:57.572790Z"
    }
   },
   "outputs": [
    {
     "name": "stdout",
     "output_type": "stream",
     "text": [
      "[[1816  380  406  324]\n",
      " [ 479 1656  446  362]\n",
      " [ 212  157 2424  169]\n",
      " [ 333  399  377 1829]]\n"
     ]
    },
    {
     "data": {
      "image/png": "[encoded data removed]",
      "text/plain": [
       "<Figure size 432x432 with 2 Axes>"
      ]
     },
     "metadata": {
      "needs_background": "light"
     },
     "output_type": "display_data"
    }
   ],
   "source": [
    "print(confusion_matrix(y_traint, training_predictions))\n",
    "\n",
    "skplt.metrics.plot_confusion_matrix(y_traint, training_predictions, figsize=(6,6))\n",
    "plt.show()"
   ]
  },
  {
   "cell_type": "markdown",
   "metadata": {},
   "source": [
    "For the training matrix below, the model performs best in classifying the lowest and highest scoring comments, and less well on the middle two classes, especially the third. "
   ]
  },
  {
   "cell_type": "code",
   "execution_count": 21,
   "metadata": {
    "ExecuteTime": {
     "end_time": "2020-03-18T10:36:09.405593Z",
     "start_time": "2020-03-18T10:36:09.149992Z"
    }
   },
   "outputs": [
    {
     "name": "stdout",
     "output_type": "stream",
     "text": [
      "[[458 101 109  84]\n",
      " [118 407 113  97]\n",
      " [175 183 185 173]\n",
      " [ 90  98  91 461]]\n"
     ]
    },
    {
     "data": {
      "image/png": "[encoded data removed]",
      "text/plain": [
       "<Figure size 432x432 with 2 Axes>"
      ]
     },
     "metadata": {
      "needs_background": "light"
     },
     "output_type": "display_data"
    }
   ],
   "source": [
    "print(confusion_matrix(y_testt, testing_predictions))\n",
    "\n",
    "skplt.metrics.plot_confusion_matrix(y_testt, testing_predictions, figsize=(6,6))\n",
    "plt.show()"
   ]
  },
  {
   "cell_type": "markdown",
   "metadata": {},
   "source": [
    "- In the classification report: It is reassuring that the f1 scores are highest for the highest and lowest scoring comments. \n",
    "- Given the nature of the sensitive forum, increasing the detection and classification of potentially harmful comments is desirable, thus increasing false negatives and increasing recall (at the expense of precision)."
   ]
  },
  {
   "cell_type": "code",
   "execution_count": 20,
   "metadata": {
    "ExecuteTime": {
     "end_time": "2020-03-13T16:59:38.955268Z",
     "start_time": "2020-03-13T16:58:46.231866Z"
    }
   },
   "outputs": [
    {
     "name": "stdout",
     "output_type": "stream",
     "text": [
      "              precision    recall  f1-score   support\n",
      "\n",
      "           0       0.49      0.53      0.51      2926\n",
      "           1       0.49      0.50      0.50      2943\n",
      "           2       0.36      0.30      0.33      2962\n",
      "           3       0.50      0.53      0.52      2938\n",
      "\n",
      "    accuracy                           0.47     11769\n",
      "   macro avg       0.46      0.47      0.46     11769\n",
      "weighted avg       0.46      0.47      0.46     11769\n",
      "\n"
     ]
    }
   ],
   "source": [
    "cv_predict = cross_val_predict(lr, X_traint, y_traint, cv=kf)\n",
    "print(classification_report(y_traint, cv_predict))"
   ]
  },
  {
   "cell_type": "markdown",
   "metadata": {},
   "source": [
    "In order to extend ROC curve and ROC area to multi-label classification, it is necessary to binarize the output. "
   ]
  },
  {
   "cell_type": "code",
   "execution_count": 56,
   "metadata": {
    "ExecuteTime": {
     "end_time": "2020-03-18T10:57:06.239441Z",
     "start_time": "2020-03-18T10:57:04.787400Z"
    }
   },
   "outputs": [
    {
     "data": {
      "image/png": "[encoded data removed]",
      "text/plain": [
       "<Figure size 576x432 with 1 Axes>"
      ]
     },
     "metadata": {
      "needs_background": "light"
     },
     "output_type": "display_data"
    },
    {
     "name": "stdout",
     "output_type": "stream",
     "text": [
      "Area under ROC curve (ROC-AUC):\n",
      "Class 0: 0.74\n",
      "Class 1: 0.74\n",
      "Class 2: 0.57\n",
      "Class 3: 0.77\n"
     ]
    }
   ],
   "source": [
    "y_test_bint = label_binarize(y_testt, lr.classes_)\n",
    "\n",
    "skplt.metrics.plot_roc(y_testt, lr.predict_proba(X_testt), plot_micro=False, plot_macro=False,\n",
    "                       title_fontsize=20, text_fontsize=16, figsize=(8, 6))\n",
    "plt.show()\n",
    "\n",
    "print('Area under ROC curve (ROC-AUC):')\n",
    "for i, class_ in enumerate(lr.classes_):\n",
    "    print('Class {}:'.format(class_), round(metrics.roc_auc_score(\n",
    "        y_test_bint[:, i], lr.predict_proba(X_testt)[:, i]), 2))"
   ]
  },
  {
   "cell_type": "markdown",
   "metadata": {},
   "source": [
    "## For the sake of analysis, I have binarized my target variable "
   ]
  },
  {
   "cell_type": "code",
   "execution_count": 20,
   "metadata": {
    "ExecuteTime": {
     "end_time": "2020-03-18T10:41:37.135662Z",
     "start_time": "2020-03-18T10:41:37.123338Z"
    }
   },
   "outputs": [],
   "source": [
    "def sampling_binary(X,y):   \n",
    "    y_b = pd.qcut(y, 2, labels = [0,1])\n",
    "    Xs,ys = RandomUnderSampler(replacement=True).fit_resample(X, y_b)\n",
    "    print(Xs.shape, ys.shape)\n",
    "    scaler = StandardScaler()\n",
    "    Xs = pd.DataFrame(scaler.fit_transform(Xs), columns = X.columns)\n",
    "    ys = pd.DataFrame(ys, columns=['comment_score'])\n",
    "    \n",
    "    X_train, X_test, y_train, y_test = train_test_split(Xs, ys, test_size=0.2, random_state=1, shuffle=True)\n",
    "    return X_train, X_test, y_train, y_test"
   ]
  },
  {
   "cell_type": "code",
   "execution_count": 24,
   "metadata": {
    "ExecuteTime": {
     "end_time": "2020-03-18T10:42:16.873707Z",
     "start_time": "2020-03-18T10:42:08.454457Z"
    }
   },
   "outputs": [
    {
     "name": "stdout",
     "output_type": "stream",
     "text": [
      "(14938, 5000) (14938,)\n"
     ]
    }
   ],
   "source": [
    "X_trainb, X_testb, y_trainb, y_testb = sampling_binary(sw_tf, sw.comment_score)"
   ]
  },
  {
   "cell_type": "markdown",
   "metadata": {},
   "source": [
    "Due to the binary nature of our target metric, the baseline is roughly 0.5"
   ]
  },
  {
   "cell_type": "code",
   "execution_count": 25,
   "metadata": {
    "ExecuteTime": {
     "end_time": "2020-03-18T10:42:29.898661Z",
     "start_time": "2020-03-18T10:42:29.809485Z"
    }
   },
   "outputs": [
    {
     "data": {
      "text/plain": [
       "0.5046854082998661"
      ]
     },
     "execution_count": 25,
     "metadata": {},
     "output_type": "execute_result"
    }
   ],
   "source": [
    "y_testb['comment_score'].value_counts(normalize=True).max()"
   ]
  },
  {
   "cell_type": "code",
   "execution_count": 26,
   "metadata": {
    "ExecuteTime": {
     "end_time": "2020-03-18T10:43:26.462369Z",
     "start_time": "2020-03-18T10:42:36.041135Z"
    }
   },
   "outputs": [],
   "source": [
    "lr_binary = LogisticRegression(C=0.1, random_state=1).fit(X_trainb, y_trainb)"
   ]
  },
  {
   "cell_type": "code",
   "execution_count": 29,
   "metadata": {
    "ExecuteTime": {
     "end_time": "2020-03-18T10:45:36.637702Z",
     "start_time": "2020-03-18T10:44:03.913753Z"
    }
   },
   "outputs": [],
   "source": [
    "cv = cross_val_score(lr_binary, X_trainb, y_trainb, cv=kf).mean()"
   ]
  },
  {
   "cell_type": "code",
   "execution_count": 30,
   "metadata": {
    "ExecuteTime": {
     "end_time": "2020-03-18T10:45:37.340240Z",
     "start_time": "2020-03-18T10:45:36.649031Z"
    }
   },
   "outputs": [],
   "source": [
    "training_predictionsb = lr_binary.predict(X_trainb)\n",
    "testing_predictionsb = lr_binary.predict(X_testb)"
   ]
  },
  {
   "cell_type": "code",
   "execution_count": 32,
   "metadata": {
    "ExecuteTime": {
     "end_time": "2020-03-18T10:45:59.502990Z",
     "start_time": "2020-03-18T10:45:59.319205Z"
    }
   },
   "outputs": [
    {
     "name": "stdout",
     "output_type": "stream",
     "text": [
      "Training score 0.9137238493723849\n",
      "Testing score 0.6204819277108434\n",
      "CV score 0.6049373029821185\n"
     ]
    }
   ],
   "source": [
    "print('Training score', lr_binary.score(X_trainb, y_trainb)) #very overfit \n",
    "print('Testing score', lr_binary.score(X_testb, y_testb))\n",
    "print('CV score', cv)"
   ]
  },
  {
   "cell_type": "markdown",
   "metadata": {},
   "source": [
    "It is reassuring that the model is correctly classifying **more** harmful (low scoring comments). "
   ]
  },
  {
   "cell_type": "code",
   "execution_count": 38,
   "metadata": {
    "ExecuteTime": {
     "end_time": "2020-03-18T10:50:11.706055Z",
     "start_time": "2020-03-18T10:50:10.456146Z"
    }
   },
   "outputs": [
    {
     "name": "stdout",
     "output_type": "stream",
     "text": [
      "[[1031  449]\n",
      " [ 685  823]]\n"
     ]
    },
    {
     "data": {
      "image/png": "[encoded data removed]",
      "text/plain": [
       "<Figure size 432x432 with 2 Axes>"
      ]
     },
     "metadata": {
      "needs_background": "light"
     },
     "output_type": "display_data"
    }
   ],
   "source": [
    "print(confusion_matrix(y_testb, testing_predictionsb))\n",
    "\n",
    "skplt.metrics.plot_confusion_matrix(y_testb, testing_predictionsb, figsize=(6,6))\n",
    "plt.show()"
   ]
  },
  {
   "cell_type": "code",
   "execution_count": 37,
   "metadata": {
    "ExecuteTime": {
     "end_time": "2020-03-18T10:50:10.442811Z",
     "start_time": "2020-03-18T10:48:10.245345Z"
    }
   },
   "outputs": [
    {
     "name": "stdout",
     "output_type": "stream",
     "text": [
      "              precision    recall  f1-score   support\n",
      "\n",
      "           0       0.60      0.66      0.63      5989\n",
      "           1       0.62      0.55      0.58      5961\n",
      "\n",
      "    accuracy                           0.60     11950\n",
      "   macro avg       0.61      0.60      0.60     11950\n",
      "weighted avg       0.61      0.60      0.60     11950\n",
      "\n"
     ]
    }
   ],
   "source": [
    "cv_predict_b = cross_val_predict(lr_binary, X_trainb, y_trainb, cv=kf)\n",
    "print(classification_report(y_trainb, cv_predict_b))"
   ]
  },
  {
   "cell_type": "markdown",
   "metadata": {},
   "source": [
    "Ensure the predicted prob are returned from cross val predict (due to very overfitted training data)"
   ]
  },
  {
   "cell_type": "code",
   "execution_count": 137,
   "metadata": {
    "ExecuteTime": {
     "end_time": "2020-03-18T13:03:14.776637Z",
     "start_time": "2020-03-18T13:00:44.829968Z"
    }
   },
   "outputs": [],
   "source": [
    "cv_predict_prob = cross_val_predict(lr_binary, X_trainb, y_trainb['comment_score'], cv=kf, method='predict_proba')"
   ]
  },
  {
   "cell_type": "code",
   "execution_count": 149,
   "metadata": {
    "ExecuteTime": {
     "end_time": "2020-03-18T13:21:53.901317Z",
     "start_time": "2020-03-18T13:21:53.611439Z"
    }
   },
   "outputs": [
    {
     "data": {
      "text/html": [
       "<div>\n",
       "<style scoped>\n",
       "    .dataframe tbody tr th:only-of-type {\n",
       "        vertical-align: middle;\n",
       "    }\n",
       "\n",
       "    .dataframe tbody tr th {\n",
       "        vertical-align: top;\n",
       "    }\n",
       "\n",
       "    .dataframe thead th {\n",
       "        text-align: right;\n",
       "    }\n",
       "</style>\n",
       "<table border=\"1\" class=\"dataframe\">\n",
       "  <thead>\n",
       "    <tr style=\"text-align: right;\">\n",
       "      <th></th>\n",
       "      <th>low</th>\n",
       "      <th>high</th>\n",
       "    </tr>\n",
       "  </thead>\n",
       "  <tbody>\n",
       "    <tr>\n",
       "      <td>3612</td>\n",
       "      <td>0.85659</td>\n",
       "      <td>0.14341</td>\n",
       "    </tr>\n",
       "    <tr>\n",
       "      <td>9032</td>\n",
       "      <td>0.99986</td>\n",
       "      <td>0.00014</td>\n",
       "    </tr>\n",
       "    <tr>\n",
       "      <td>11304</td>\n",
       "      <td>0.95737</td>\n",
       "      <td>0.04263</td>\n",
       "    </tr>\n",
       "    <tr>\n",
       "      <td>13423</td>\n",
       "      <td>0.33814</td>\n",
       "      <td>0.66186</td>\n",
       "    </tr>\n",
       "    <tr>\n",
       "      <td>12847</td>\n",
       "      <td>0.00556</td>\n",
       "      <td>0.99444</td>\n",
       "    </tr>\n",
       "  </tbody>\n",
       "</table>\n",
       "</div>"
      ],
      "text/plain": [
       "           low     high\n",
       "3612   0.85659  0.14341\n",
       "9032   0.99986  0.00014\n",
       "11304  0.95737  0.04263\n",
       "13423  0.33814  0.66186\n",
       "12847  0.00556  0.99444"
      ]
     },
     "execution_count": 149,
     "metadata": {},
     "output_type": "execute_result"
    }
   ],
   "source": [
    "Y_pp = pd.DataFrame(cv_predict_prob, \n",
    "             columns=['low', 'high'], index = y_trainb.index)\n",
    "round(Y_pp,5).head()"
   ]
  },
  {
   "cell_type": "code",
   "execution_count": 151,
   "metadata": {
    "ExecuteTime": {
     "end_time": "2020-03-18T13:22:27.914134Z",
     "start_time": "2020-03-18T13:22:27.443651Z"
    }
   },
   "outputs": [
    {
     "data": {
      "image/png": "[encoded data removed]",
      "text/plain": [
       "<Figure size 432x432 with 1 Axes>"
      ]
     },
     "metadata": {
      "needs_background": "light"
     },
     "output_type": "display_data"
    }
   ],
   "source": [
    "fpr, tpr, threshold = roc_curve(y_trainb['comment_score'], Y_pp.high)\n",
    "roc_auc = auc(fpr, tpr)\n",
    "\n",
    "plt.figure(figsize=[6, 6])\n",
    "plt.plot(fpr, tpr, label='ROC curve (area = %0.2f)' % roc_auc, linewidth=4)\n",
    "plt.plot([0, 1], [0, 1], 'k--', linewidth=4)\n",
    "plt.xlim([-0.05, 1.0])\n",
    "plt.ylim([-0.05, 1.05])\n",
    "plt.xlabel('False Positive Rate', fontsize=18)\n",
    "plt.ylabel('True Positive Rate', fontsize=18)\n",
    "plt.title('ROC curve', fontsize=18)\n",
    "plt.legend(loc=\"lower right\")\n",
    "plt.show()"
   ]
  },
  {
   "cell_type": "code",
   "execution_count": 152,
   "metadata": {
    "ExecuteTime": {
     "end_time": "2020-03-18T13:23:35.132396Z",
     "start_time": "2020-03-18T13:23:35.111515Z"
    }
   },
   "outputs": [],
   "source": [
    "def predict_threshold_lowest_class(x, threshold=0.5):\n",
    "    if x >= threshold:\n",
    "        return 0\n",
    "    else:\n",
    "        return 1"
   ]
  },
  {
   "cell_type": "code",
   "execution_count": 155,
   "metadata": {
    "ExecuteTime": {
     "end_time": "2020-03-18T13:24:24.570196Z",
     "start_time": "2020-03-18T13:24:24.522025Z"
    }
   },
   "outputs": [
    {
     "data": {
      "text/html": [
       "<div>\n",
       "<style scoped>\n",
       "    .dataframe tbody tr th:only-of-type {\n",
       "        vertical-align: middle;\n",
       "    }\n",
       "\n",
       "    .dataframe tbody tr th {\n",
       "        vertical-align: top;\n",
       "    }\n",
       "\n",
       "    .dataframe thead th {\n",
       "        text-align: right;\n",
       "    }\n",
       "</style>\n",
       "<table border=\"1\" class=\"dataframe\">\n",
       "  <thead>\n",
       "    <tr style=\"text-align: right;\">\n",
       "      <th></th>\n",
       "      <th>low</th>\n",
       "      <th>high</th>\n",
       "      <th>50%_thresh</th>\n",
       "      <th>actual</th>\n",
       "    </tr>\n",
       "  </thead>\n",
       "  <tbody>\n",
       "    <tr>\n",
       "      <td>3612</td>\n",
       "      <td>0.85659</td>\n",
       "      <td>0.14341</td>\n",
       "      <td>0</td>\n",
       "      <td>0</td>\n",
       "    </tr>\n",
       "    <tr>\n",
       "      <td>9032</td>\n",
       "      <td>0.99986</td>\n",
       "      <td>0.00014</td>\n",
       "      <td>0</td>\n",
       "      <td>1</td>\n",
       "    </tr>\n",
       "    <tr>\n",
       "      <td>11304</td>\n",
       "      <td>0.95737</td>\n",
       "      <td>0.04263</td>\n",
       "      <td>0</td>\n",
       "      <td>1</td>\n",
       "    </tr>\n",
       "    <tr>\n",
       "      <td>13423</td>\n",
       "      <td>0.33814</td>\n",
       "      <td>0.66186</td>\n",
       "      <td>1</td>\n",
       "      <td>1</td>\n",
       "    </tr>\n",
       "    <tr>\n",
       "      <td>12847</td>\n",
       "      <td>0.00556</td>\n",
       "      <td>0.99444</td>\n",
       "      <td>1</td>\n",
       "      <td>1</td>\n",
       "    </tr>\n",
       "  </tbody>\n",
       "</table>\n",
       "</div>"
      ],
      "text/plain": [
       "           low     high  50%_thresh  actual\n",
       "3612   0.85659  0.14341           0       0\n",
       "9032   0.99986  0.00014           0       1\n",
       "11304  0.95737  0.04263           0       1\n",
       "13423  0.33814  0.66186           1       1\n",
       "12847  0.00556  0.99444           1       1"
      ]
     },
     "execution_count": 155,
     "metadata": {},
     "output_type": "execute_result"
    }
   ],
   "source": [
    "Y_pp['50%_thresh'] = Y_pp.low.apply(predict_threshold_lowest_class, threshold=0.5)\n",
    "Y_pp['actual'] = y_trainb\n",
    "round(Y_pp,5).head()"
   ]
  },
  {
   "cell_type": "code",
   "execution_count": 156,
   "metadata": {
    "ExecuteTime": {
     "end_time": "2020-03-18T13:24:40.965297Z",
     "start_time": "2020-03-18T13:24:40.893132Z"
    }
   },
   "outputs": [],
   "source": [
    "def scores_at_thresholds(probs):\n",
    "    predictions = [probs.apply(predict_threshold_lowest_class, threshold=i) \n",
    "                   for i in np.linspace(0, 1, 1000)]\n",
    "    scores = np.array(\n",
    "    [(threshold, \n",
    "      accuracy_score(Y_pp['actual'], predictions[i]),\n",
    "      precision_score(Y_pp['actual'], predictions[i]),\n",
    "      recall_score(Y_pp['actual'], predictions[i]), \n",
    "      f1_score(Y_pp['actual'], predictions[i])) \n",
    "     for i, threshold in enumerate(np.linspace(0, 1, 1000))])\n",
    "    return scores"
   ]
  },
  {
   "cell_type": "code",
   "execution_count": 157,
   "metadata": {
    "ExecuteTime": {
     "end_time": "2020-03-18T13:25:29.627346Z",
     "start_time": "2020-03-18T13:24:54.655569Z"
    }
   },
   "outputs": [],
   "source": [
    "scores = scores_at_thresholds(Y_pp.low)"
   ]
  },
  {
   "cell_type": "code",
   "execution_count": 158,
   "metadata": {
    "ExecuteTime": {
     "end_time": "2020-03-18T13:25:30.120596Z",
     "start_time": "2020-03-18T13:25:29.638108Z"
    }
   },
   "outputs": [
    {
     "data": {
      "image/png": "[encoded data removed]",
      "text/plain": [
       "<Figure size 864x576 with 1 Axes>"
      ]
     },
     "metadata": {
      "needs_background": "light"
     },
     "output_type": "display_data"
    }
   ],
   "source": [
    "fig, ax = plt.subplots(figsize = (12,8))\n",
    "plt.plot(scores[:, 0], scores[:, 1], label='accuracy')\n",
    "plt.plot(scores[:, 0], scores[:, 2], label='precision')\n",
    "plt.plot(scores[:, 0], scores[:, 3], label='recall')\n",
    "plt.plot(scores[:, 0], scores[:, 4], label='f1')\n",
    "plt.legend()\n",
    "plt.xlabel('threshold')\n",
    "plt.show();"
   ]
  },
  {
   "cell_type": "markdown",
   "metadata": {},
   "source": [
    "Classification report at 50 percent threshold (which is the as same above)"
   ]
  },
  {
   "cell_type": "code",
   "execution_count": 159,
   "metadata": {
    "ExecuteTime": {
     "end_time": "2020-03-18T13:25:51.194918Z",
     "start_time": "2020-03-18T13:25:51.145397Z"
    }
   },
   "outputs": [
    {
     "name": "stdout",
     "output_type": "stream",
     "text": [
      "              precision    recall  f1-score   support\n",
      "\n",
      "           0       0.60      0.66      0.63      5989\n",
      "           1       0.62      0.55      0.58      5961\n",
      "\n",
      "    accuracy                           0.60     11950\n",
      "   macro avg       0.61      0.60      0.60     11950\n",
      "weighted avg       0.61      0.60      0.60     11950\n",
      "\n"
     ]
    }
   ],
   "source": [
    "print(classification_report(Y_pp['actual'], Y_pp['50%_thresh']))"
   ]
  },
  {
   "cell_type": "markdown",
   "metadata": {},
   "source": [
    "- Given the nature of this forum, we want to tune the model towards increasing the detection of harmful or damaging comments. Thus increasing detection of low scoring comments is critical. This is done by decreasing the threshold, increasing false negatives. "
   ]
  },
  {
   "cell_type": "code",
   "execution_count": 168,
   "metadata": {
    "ExecuteTime": {
     "end_time": "2020-03-18T13:36:41.549374Z",
     "start_time": "2020-03-18T13:36:41.455825Z"
    }
   },
   "outputs": [
    {
     "data": {
      "text/html": [
       "<div>\n",
       "<style scoped>\n",
       "    .dataframe tbody tr th:only-of-type {\n",
       "        vertical-align: middle;\n",
       "    }\n",
       "\n",
       "    .dataframe tbody tr th {\n",
       "        vertical-align: top;\n",
       "    }\n",
       "\n",
       "    .dataframe thead th {\n",
       "        text-align: right;\n",
       "    }\n",
       "</style>\n",
       "<table border=\"1\" class=\"dataframe\">\n",
       "  <thead>\n",
       "    <tr style=\"text-align: right;\">\n",
       "      <th></th>\n",
       "      <th>low</th>\n",
       "      <th>high</th>\n",
       "      <th>50%_thresh</th>\n",
       "      <th>actual</th>\n",
       "      <th>45%</th>\n",
       "    </tr>\n",
       "  </thead>\n",
       "  <tbody>\n",
       "    <tr>\n",
       "      <td>3612</td>\n",
       "      <td>0.85659</td>\n",
       "      <td>0.14341</td>\n",
       "      <td>0</td>\n",
       "      <td>0</td>\n",
       "      <td>0</td>\n",
       "    </tr>\n",
       "    <tr>\n",
       "      <td>9032</td>\n",
       "      <td>0.99986</td>\n",
       "      <td>0.00014</td>\n",
       "      <td>0</td>\n",
       "      <td>1</td>\n",
       "      <td>0</td>\n",
       "    </tr>\n",
       "    <tr>\n",
       "      <td>11304</td>\n",
       "      <td>0.95737</td>\n",
       "      <td>0.04263</td>\n",
       "      <td>0</td>\n",
       "      <td>1</td>\n",
       "      <td>0</td>\n",
       "    </tr>\n",
       "    <tr>\n",
       "      <td>13423</td>\n",
       "      <td>0.33814</td>\n",
       "      <td>0.66186</td>\n",
       "      <td>1</td>\n",
       "      <td>1</td>\n",
       "      <td>1</td>\n",
       "    </tr>\n",
       "    <tr>\n",
       "      <td>12847</td>\n",
       "      <td>0.00556</td>\n",
       "      <td>0.99444</td>\n",
       "      <td>1</td>\n",
       "      <td>1</td>\n",
       "      <td>1</td>\n",
       "    </tr>\n",
       "  </tbody>\n",
       "</table>\n",
       "</div>"
      ],
      "text/plain": [
       "           low     high  50%_thresh  actual  45%\n",
       "3612   0.85659  0.14341           0       0    0\n",
       "9032   0.99986  0.00014           0       1    0\n",
       "11304  0.95737  0.04263           0       1    0\n",
       "13423  0.33814  0.66186           1       1    1\n",
       "12847  0.00556  0.99444           1       1    1"
      ]
     },
     "execution_count": 168,
     "metadata": {},
     "output_type": "execute_result"
    }
   ],
   "source": [
    "Y_pp['45%'] = Y_pp.low.apply(predict_threshold_lowest_class, threshold=0.45)\n",
    "round(Y_pp,5).head()"
   ]
  },
  {
   "cell_type": "code",
   "execution_count": 169,
   "metadata": {
    "ExecuteTime": {
     "end_time": "2020-03-18T13:36:42.876716Z",
     "start_time": "2020-03-18T13:36:42.835559Z"
    }
   },
   "outputs": [
    {
     "name": "stdout",
     "output_type": "stream",
     "text": [
      "              precision    recall  f1-score   support\n",
      "\n",
      "           0       0.59      0.68      0.63      5989\n",
      "           1       0.62      0.53      0.57      5961\n",
      "\n",
      "    accuracy                           0.61     11950\n",
      "   macro avg       0.61      0.61      0.60     11950\n",
      "weighted avg       0.61      0.61      0.60     11950\n",
      "\n"
     ]
    }
   ],
   "source": [
    "#classification report at 45 percent threshold\n",
    "print(classification_report(Y_pp['actual'], Y_pp['45%']))"
   ]
  },
  {
   "cell_type": "markdown",
   "metadata": {},
   "source": [
    "Higher recall at class 0, thus increasing detection of lower scoring comments. "
   ]
  },
  {
   "cell_type": "markdown",
   "metadata": {},
   "source": [
    "## Analysis of coefficients "
   ]
  },
  {
   "cell_type": "markdown",
   "metadata": {},
   "source": [
    "**In a world where silence or insensitivity often makes matters worse, it's time to talk about our language.**\n",
    "\n",
    "\n",
    "**These terms have been found to decrease comment scores and align with ideas within research in the mental health industry.**\n",
    "\n",
    "- 'change world', 'changes', 'meaning life': suggests spamming the sub with generic uplifting comments. Research has shown that vague, over-simplistic language is innappropriate. \n",
    "\n",
    "- 'bad thing', 'makes sad', 'destructive: Suggest casting blame and and guilt-tripping terms. Research shows judgement can be damaging. \n",
    "\n",
    "- 'Passion', 'lots love': It has been shown that highly emotive language is damaging. \n",
    "\n",
    "- 'doesn sound': Trivialising the situation, downplaying ones agency and lacking compassion.\n",
    "\n",
    "- 'hotline', 'proving wrong': Offering solutions or posing too aggressively as a role model "
   ]
  },
  {
   "cell_type": "markdown",
   "metadata": {},
   "source": [
    "**These terms have been found to increase comment scores and align with ideas within research in the mental health industry.**\n",
    "\n",
    "\n",
    "- 'im sorry', 'ive got' 'just felt', 'did try', 'reminds', 'did help' \n",
    "- personal, use of 'I', enagaging in conversation and relates to the situation, validating emotions. \n",
    "\n",
    "- 'taboo' - addressing the idea of taboo and stigma \n",
    "\n",
    "- 'thoughts feelings', 'people struggle' - evokes compassion\n",
    "\n",
    "- 'service', 'laws' - factual and possibly clinical "
   ]
  },
  {
   "cell_type": "markdown",
   "metadata": {},
   "source": [
    "This research is from an online cross-sectional survey in which participants were asked to rate descriptors pertaining to suicidal behaviour according to perceived acceptability. \n",
    "\n",
    "\n",
    "**Limitations:**\n",
    "\n",
    "- Difficult to interpret these what these words represent without context.\n",
    "- Varies so much for what people find helpful, making it very difficult to predict scores.\n",
    "\n",
    "\n",
    "Padmanathan P, Biddle L, Hall K, Scowcroft E, Nielsen E, et al. (2019) Language use and suicide: An online cross-sectional survey. PLOS ONE 14(6): e0217473. https://doi.org/10.1371/journal.pone.0217473"
   ]
  },
  {
   "cell_type": "code",
   "execution_count": null,
   "metadata": {},
   "outputs": [],
   "source": []
  }
 ],
 "metadata": {
  "kernelspec": {
   "display_name": "Python 3",
   "language": "python",
   "name": "python3"
  },
  "language_info": {
   "codemirror_mode": {
    "name": "ipython",
    "version": 3
   },
   "file_extension": ".py",
   "mimetype": "text/x-python",
   "name": "python",
   "nbconvert_exporter": "python",
   "pygments_lexer": "ipython3",
   "version": "3.7.6"
  }
 },
 "nbformat": 4,
 "nbformat_minor": 2
}
