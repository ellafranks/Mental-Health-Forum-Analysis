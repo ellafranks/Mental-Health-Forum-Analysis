{
 "cells": [
  {
   "cell_type": "code",
   "execution_count": 2,
   "metadata": {
    "ExecuteTime": {
     "end_time": "2020-02-15T14:05:38.635295Z",
     "start_time": "2020-02-15T14:05:29.672500Z"
    }
   },
   "outputs": [],
   "source": [
    "import praw\n",
    "import pandas as pd\n",
    "from sklearn.linear_model import LogisticRegression\n",
    "from sklearn.model_selection import cross_val_score\n",
    "import pandas as pd\n",
    "import numpy as np\n",
    "import requests\n",
    "import matplotlib.pyplot as plt\n",
    "from pprint import pprint\n",
    "%matplotlib inline\n",
    "from sklearn.preprocessing import StandardScaler\n",
    "import emoji \n",
    "import re\n",
    "from emoji import emojize\n",
    "from emoji import *\n",
    "import seaborn as sns"
   ]
  },
  {
   "cell_type": "markdown",
   "metadata": {},
   "source": [
    "## Import data "
   ]
  },
  {
   "cell_type": "code",
   "execution_count": 3,
   "metadata": {
    "ExecuteTime": {
     "end_time": "2020-02-15T14:05:39.353192Z",
     "start_time": "2020-02-15T14:05:38.638966Z"
    }
   },
   "outputs": [],
   "source": [
    "sw = pd.read_csv('../Datasets_capstone/exploratory_datasets/eg2.csv')\n",
    "del sw['Unnamed: 0']"
   ]
  },
  {
   "cell_type": "code",
   "execution_count": 4,
   "metadata": {
    "ExecuteTime": {
     "end_time": "2020-02-15T14:05:40.229749Z",
     "start_time": "2020-02-15T14:05:40.216885Z"
    }
   },
   "outputs": [
    {
     "data": {
      "text/plain": [
       "Index(['comment_score', 'post_title', 'parent_created', 'num_parent_comments',\n",
       "       'post_id', 'parent_comment', 'comment_body', 'comment_depth',\n",
       "       'comment_edited', 'awards', 'controversial', 'comment_created',\n",
       "       'comment_archived', 'comment_gilded', 'replies_to_comment'],\n",
       "      dtype='object')"
      ]
     },
     "execution_count": 4,
     "metadata": {},
     "output_type": "execute_result"
    }
   ],
   "source": [
    "sw.columns"
   ]
  },
  {
   "cell_type": "markdown",
   "metadata": {},
   "source": [
    "## General cleaning"
   ]
  },
  {
   "cell_type": "code",
   "execution_count": 5,
   "metadata": {
    "ExecuteTime": {
     "end_time": "2020-02-15T14:06:10.459404Z",
     "start_time": "2020-02-15T14:06:10.411629Z"
    }
   },
   "outputs": [],
   "source": [
    "sw.rename(columns = {'parent_comment':'comment_id'}, inplace = True)"
   ]
  },
  {
   "cell_type": "code",
   "execution_count": 9,
   "metadata": {
    "ExecuteTime": {
     "end_time": "2020-02-15T14:06:23.827075Z",
     "start_time": "2020-02-15T14:06:23.768171Z"
    }
   },
   "outputs": [],
   "source": [
    "sw.dropna(inplace=True)"
   ]
  },
  {
   "cell_type": "code",
   "execution_count": 10,
   "metadata": {
    "ExecuteTime": {
     "end_time": "2020-02-15T14:06:24.178612Z",
     "start_time": "2020-02-15T14:06:24.083307Z"
    }
   },
   "outputs": [],
   "source": [
    "#removing newline characters\n",
    "sw.comment_body = sw.comment_body.replace('\\n', ' ', regex=True)"
   ]
  },
  {
   "cell_type": "code",
   "execution_count": 11,
   "metadata": {
    "ExecuteTime": {
     "end_time": "2020-02-15T14:06:24.533613Z",
     "start_time": "2020-02-15T14:06:24.399166Z"
    }
   },
   "outputs": [],
   "source": [
    "sw.replies_to_comment = sw.replies_to_comment.replace('\\n', ' ', regex=True)"
   ]
  },
  {
   "cell_type": "code",
   "execution_count": 12,
   "metadata": {
    "ExecuteTime": {
     "end_time": "2020-02-15T14:06:24.818485Z",
     "start_time": "2020-02-15T14:06:24.804673Z"
    }
   },
   "outputs": [
    {
     "data": {
      "text/plain": [
       "(72803, 15)"
      ]
     },
     "execution_count": 12,
     "metadata": {},
     "output_type": "execute_result"
    }
   ],
   "source": [
    "sw.shape"
   ]
  },
  {
   "cell_type": "markdown",
   "metadata": {},
   "source": [
    "## Feature Engineering Functions\n",
    "\n",
    "### Returning:\n",
    "- Correct format of year, day and hour comments were made\n",
    "- Binary formatting to comment edited \n",
    "- Length of comment\n",
    "- Special characters\n",
    "- Uppercase ratio of words \n",
    "- Emojis text (smiley face)\n",
    "- Emojis \n",
    "- Binary formatting to above \n",
    "- URLs\n",
    "- Time between comment and original post"
   ]
  },
  {
   "cell_type": "code",
   "execution_count": 13,
   "metadata": {
    "ExecuteTime": {
     "end_time": "2020-02-15T14:06:30.787210Z",
     "start_time": "2020-02-15T14:06:30.779576Z"
    }
   },
   "outputs": [],
   "source": [
    "def date(cell):\n",
    "    datetime = pd.to_datetime(cell, unit='s')  \n",
    "    return datetime.year, datetime.day_name(), datetime.hour"
   ]
  },
  {
   "cell_type": "code",
   "execution_count": 14,
   "metadata": {
    "ExecuteTime": {
     "end_time": "2020-02-15T14:06:30.992924Z",
     "start_time": "2020-02-15T14:06:30.985645Z"
    }
   },
   "outputs": [],
   "source": [
    "def comment_edited_date(cell):\n",
    "    try:\n",
    "        datetime = pd.to_datetime(cell, unit='s')  \n",
    "        return datetime.year, datetime.day_name(), datetime.hour\n",
    "    except:\n",
    "        return 'False'"
   ]
  },
  {
   "cell_type": "code",
   "execution_count": 15,
   "metadata": {
    "ExecuteTime": {
     "end_time": "2020-02-15T14:06:31.198681Z",
     "start_time": "2020-02-15T14:06:31.185966Z"
    }
   },
   "outputs": [],
   "source": [
    "def title_l(cell):   \n",
    "    return len(cell.split(' '))"
   ]
  },
  {
   "cell_type": "code",
   "execution_count": 16,
   "metadata": {
    "ExecuteTime": {
     "end_time": "2020-02-15T14:06:31.396006Z",
     "start_time": "2020-02-15T14:06:31.388149Z"
    }
   },
   "outputs": [],
   "source": [
    "def special_char(cell):\n",
    "    return re.findall(\"[^()_;’“'\\,\\.\\[\\]\\w -]\", cell)"
   ]
  },
  {
   "cell_type": "code",
   "execution_count": 17,
   "metadata": {
    "ExecuteTime": {
     "end_time": "2020-02-15T14:06:31.610595Z",
     "start_time": "2020-02-15T14:06:31.604841Z"
    }
   },
   "outputs": [],
   "source": [
    "def uppercase_ratio(cell):\n",
    "    try:  \n",
    "        return len(re.findall('[A-Z]', cell))/len(re.findall('[A-Za-z]', cell))\n",
    "    except:\n",
    "        pass"
   ]
  },
  {
   "cell_type": "code",
   "execution_count": 18,
   "metadata": {
    "ExecuteTime": {
     "end_time": "2020-02-15T14:06:31.815708Z",
     "start_time": "2020-02-15T14:06:31.805975Z"
    }
   },
   "outputs": [],
   "source": [
    "def extract_text_em(cell):\n",
    "    emojis = ''.join(c for c in cell if c in UNICODE_EMOJI)\n",
    "    return demojize(emojis)"
   ]
  },
  {
   "cell_type": "code",
   "execution_count": 19,
   "metadata": {
    "ExecuteTime": {
     "end_time": "2020-02-15T14:06:32.045145Z",
     "start_time": "2020-02-15T14:06:32.037133Z"
    }
   },
   "outputs": [],
   "source": [
    "def extract_emojis(cell):\n",
    "    emojis = ''.join(c for c in cell if c in UNICODE_EMOJI)\n",
    "    return emojis"
   ]
  },
  {
   "cell_type": "code",
   "execution_count": 20,
   "metadata": {
    "ExecuteTime": {
     "end_time": "2020-02-15T14:06:32.572269Z",
     "start_time": "2020-02-15T14:06:32.566669Z"
    }
   },
   "outputs": [],
   "source": [
    "def convert_empty(cell):\n",
    "    if cell:\n",
    "        return cell\n",
    "    else:\n",
    "        return 'no_emoji'"
   ]
  },
  {
   "cell_type": "code",
   "execution_count": 21,
   "metadata": {
    "ExecuteTime": {
     "end_time": "2020-02-15T14:06:32.810858Z",
     "start_time": "2020-02-15T14:06:32.805852Z"
    }
   },
   "outputs": [],
   "source": [
    "def binarise_em(cell):\n",
    "    if cell:\n",
    "        return 1\n",
    "    else:\n",
    "        return 0 "
   ]
  },
  {
   "cell_type": "code",
   "execution_count": 22,
   "metadata": {
    "ExecuteTime": {
     "end_time": "2020-02-15T14:06:33.045107Z",
     "start_time": "2020-02-15T14:06:33.039699Z"
    }
   },
   "outputs": [],
   "source": [
    "def URLS(cell):\n",
    "    return re.findall('(www.[a-zA-Z]*.com/[a-zA-Z]*)', cell)"
   ]
  },
  {
   "cell_type": "code",
   "execution_count": 23,
   "metadata": {
    "ExecuteTime": {
     "end_time": "2020-02-15T14:06:33.353125Z",
     "start_time": "2020-02-15T14:06:33.343182Z"
    }
   },
   "outputs": [],
   "source": [
    "def comment_l(cell):\n",
    "    if cell == '[removed]' or cell == '[deleted]':\n",
    "        return 0\n",
    "    else:\n",
    "        return len(cell.split(' '))"
   ]
  },
  {
   "cell_type": "code",
   "execution_count": 24,
   "metadata": {
    "ExecuteTime": {
     "end_time": "2020-02-15T14:06:33.790892Z",
     "start_time": "2020-02-15T14:06:33.783175Z"
    }
   },
   "outputs": [],
   "source": [
    "def time_diff(parent, comment):\n",
    "    datetime_parent = pd.to_datetime(parent, unit='s')  \n",
    "    datetime_comment = pd.to_datetime(comment, unit='s') \n",
    "    return (datetime_comment - datetime_parent)"
   ]
  },
  {
   "cell_type": "markdown",
   "metadata": {},
   "source": [
    "## New columns"
   ]
  },
  {
   "cell_type": "code",
   "execution_count": 25,
   "metadata": {
    "ExecuteTime": {
     "end_time": "2020-02-15T14:06:43.259300Z",
     "start_time": "2020-02-15T14:06:39.411803Z"
    }
   },
   "outputs": [],
   "source": [
    "sw['upper_rcomment'] = sw.comment_body.apply(lambda x: uppercase_ratio(x))"
   ]
  },
  {
   "cell_type": "code",
   "execution_count": 26,
   "metadata": {
    "ExecuteTime": {
     "end_time": "2020-02-15T14:06:43.272641Z",
     "start_time": "2020-02-15T14:06:43.262476Z"
    }
   },
   "outputs": [
    {
     "data": {
      "text/plain": [
       "Index(['comment_score', 'post_title', 'parent_created', 'num_parent_comments',\n",
       "       'post_id', 'comment_id', 'comment_body', 'comment_depth',\n",
       "       'comment_edited', 'awards', 'controversial', 'comment_created',\n",
       "       'comment_archived', 'comment_gilded', 'replies_to_comment',\n",
       "       'upper_rcomment'],\n",
       "      dtype='object')"
      ]
     },
     "execution_count": 26,
     "metadata": {},
     "output_type": "execute_result"
    }
   ],
   "source": [
    "sw.columns"
   ]
  },
  {
   "cell_type": "code",
   "execution_count": 27,
   "metadata": {
    "ExecuteTime": {
     "end_time": "2020-02-15T14:07:29.681893Z",
     "start_time": "2020-02-15T14:06:48.214644Z"
    }
   },
   "outputs": [],
   "source": [
    "sw['day_time_parent'] = sw.parent_created.apply(lambda x: date(x))"
   ]
  },
  {
   "cell_type": "code",
   "execution_count": 28,
   "metadata": {
    "ExecuteTime": {
     "end_time": "2020-02-15T14:08:07.565712Z",
     "start_time": "2020-02-15T14:07:29.685135Z"
    }
   },
   "outputs": [],
   "source": [
    "sw['day_time_comment'] = sw.comment_created.apply(lambda x: date(x))"
   ]
  },
  {
   "cell_type": "code",
   "execution_count": 29,
   "metadata": {
    "ExecuteTime": {
     "end_time": "2020-02-15T14:08:07.915211Z",
     "start_time": "2020-02-15T14:08:07.571008Z"
    }
   },
   "outputs": [],
   "source": [
    "sw['comment_length'] = sw.comment_body.apply(lambda x: comment_l(x)) "
   ]
  },
  {
   "cell_type": "code",
   "execution_count": 30,
   "metadata": {
    "ExecuteTime": {
     "end_time": "2020-02-15T14:08:08.483999Z",
     "start_time": "2020-02-15T14:08:07.918818Z"
    }
   },
   "outputs": [],
   "source": [
    "sw['spec_char'] = sw.comment_body.apply(lambda x: special_char(x))"
   ]
  },
  {
   "cell_type": "code",
   "execution_count": 31,
   "metadata": {
    "ExecuteTime": {
     "end_time": "2020-02-15T14:08:11.400545Z",
     "start_time": "2020-02-15T14:08:08.486857Z"
    }
   },
   "outputs": [],
   "source": [
    "sw['text_emoji'] = sw.comment_body.apply(lambda x: extract_text_em(x))\n",
    "sw['binary_emoji'] = sw.comment_body.apply(lambda x: extract_emojis(x))"
   ]
  },
  {
   "cell_type": "code",
   "execution_count": 32,
   "metadata": {
    "ExecuteTime": {
     "end_time": "2020-02-15T14:08:11.474726Z",
     "start_time": "2020-02-15T14:08:11.403908Z"
    }
   },
   "outputs": [],
   "source": [
    "sw.text_emoji =sw.text_emoji.apply(lambda x: convert_empty(x))\n",
    "sw.binary_emoji = sw.binary_emoji.apply(lambda x: binarise_em(x))"
   ]
  },
  {
   "cell_type": "code",
   "execution_count": 33,
   "metadata": {
    "ExecuteTime": {
     "end_time": "2020-02-15T14:08:11.689905Z",
     "start_time": "2020-02-15T14:08:11.477589Z"
    }
   },
   "outputs": [],
   "source": [
    "sw['time_diff'] = time_diff(sw['parent_created'], sw['comment_created'])"
   ]
  },
  {
   "cell_type": "code",
   "execution_count": 34,
   "metadata": {
    "ExecuteTime": {
     "end_time": "2020-02-15T14:08:11.918042Z",
     "start_time": "2020-02-15T14:08:11.695567Z"
    }
   },
   "outputs": [],
   "source": [
    "sw['comment_URL'] = sw.comment_body.apply(lambda x: URLS(x))"
   ]
  },
  {
   "cell_type": "code",
   "execution_count": 35,
   "metadata": {
    "ExecuteTime": {
     "end_time": "2020-02-15T14:08:11.965824Z",
     "start_time": "2020-02-15T14:08:11.921221Z"
    }
   },
   "outputs": [],
   "source": [
    "sw.replies_to_comment = sw.replies_to_comment.astype(str)"
   ]
  },
  {
   "cell_type": "code",
   "execution_count": 36,
   "metadata": {
    "ExecuteTime": {
     "end_time": "2020-02-15T14:08:12.195292Z",
     "start_time": "2020-02-15T14:08:11.971021Z"
    }
   },
   "outputs": [],
   "source": [
    "sw['reply_URL'] = sw.replies_to_comment.apply(lambda x: URLS(x))"
   ]
  },
  {
   "cell_type": "code",
   "execution_count": 37,
   "metadata": {
    "ExecuteTime": {
     "end_time": "2020-02-15T14:08:12.235663Z",
     "start_time": "2020-02-15T14:08:12.198749Z"
    }
   },
   "outputs": [],
   "source": [
    "sw.comment_URL = sw.comment_URL.apply(lambda x: 'No_URL' if x =='[]'else x)"
   ]
  },
  {
   "cell_type": "code",
   "execution_count": 38,
   "metadata": {
    "ExecuteTime": {
     "end_time": "2020-02-15T14:08:12.288323Z",
     "start_time": "2020-02-15T14:08:12.246222Z"
    }
   },
   "outputs": [],
   "source": [
    "sw.reply_URL = sw.reply_URL.apply(lambda x: 'No_URL' if x =='[]'else x)"
   ]
  },
  {
   "cell_type": "code",
   "execution_count": 39,
   "metadata": {
    "ExecuteTime": {
     "end_time": "2020-02-15T14:08:12.431424Z",
     "start_time": "2020-02-15T14:08:12.296169Z"
    }
   },
   "outputs": [],
   "source": [
    "sw['year_parent'] = sw['day_time_parent'].apply(lambda x: x[0])\n",
    "sw['day_of_week_parent'] = sw['day_time_parent'].apply(lambda x: x[1])\n",
    "sw['time_parent'] = sw['day_time_parent'].apply(lambda x: x[2])"
   ]
  },
  {
   "cell_type": "code",
   "execution_count": 40,
   "metadata": {
    "ExecuteTime": {
     "end_time": "2020-02-15T14:08:15.830672Z",
     "start_time": "2020-02-15T14:08:15.726851Z"
    }
   },
   "outputs": [],
   "source": [
    "sw['year_comment'] = sw['day_time_comment'].apply(lambda x: x[0])\n",
    "sw['day_of_week_comment'] = sw['day_time_comment'].apply(lambda x: x[1])\n",
    "sw['time_comment'] = sw['day_time_comment'].apply(lambda x: x[2])"
   ]
  },
  {
   "cell_type": "code",
   "execution_count": 41,
   "metadata": {
    "ExecuteTime": {
     "end_time": "2020-02-15T14:08:18.236235Z",
     "start_time": "2020-02-15T14:08:18.226097Z"
    }
   },
   "outputs": [
    {
     "data": {
      "text/plain": [
       "(72803, 31)"
      ]
     },
     "execution_count": 41,
     "metadata": {},
     "output_type": "execute_result"
    }
   ],
   "source": [
    "sw.shape"
   ]
  },
  {
   "cell_type": "markdown",
   "metadata": {
    "ExecuteTime": {
     "end_time": "2020-02-14T14:34:38.030045Z",
     "start_time": "2020-02-14T14:34:38.017967Z"
    }
   },
   "source": [
    "# Save as csv "
   ]
  },
  {
   "cell_type": "code",
   "execution_count": 42,
   "metadata": {
    "ExecuteTime": {
     "end_time": "2020-02-15T14:08:37.716705Z",
     "start_time": "2020-02-15T14:08:32.773786Z"
    }
   },
   "outputs": [],
   "source": [
    "sw_cleaned = sw.to_csv('sw_cleaned2.csv')"
   ]
  },
  {
   "cell_type": "code",
   "execution_count": null,
   "metadata": {},
   "outputs": [],
   "source": []
  }
 ],
 "metadata": {
  "kernelspec": {
   "display_name": "Python 3",
   "language": "python",
   "name": "python3"
  },
  "language_info": {
   "codemirror_mode": {
    "name": "ipython",
    "version": 3
   },
   "file_extension": ".py",
   "mimetype": "text/x-python",
   "name": "python",
   "nbconvert_exporter": "python",
   "pygments_lexer": "ipython3",
   "version": "3.7.4"
  }
 },
 "nbformat": 4,
 "nbformat_minor": 2
}
