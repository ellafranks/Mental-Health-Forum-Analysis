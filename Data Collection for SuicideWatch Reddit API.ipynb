{
 "cells": [
  {
   "cell_type": "code",
   "execution_count": 1,
   "metadata": {
    "ExecuteTime": {
     "end_time": "2020-03-16T22:27:53.219454Z",
     "start_time": "2020-03-16T22:27:42.408899Z"
    }
   },
   "outputs": [],
   "source": [
    "import praw\n",
    "import pandas as pd\n",
    "import requests\n",
    "import seaborn as sns"
   ]
  },
  {
   "cell_type": "code",
   "execution_count": 12,
   "metadata": {
    "ExecuteTime": {
     "end_time": "2020-03-16T22:41:12.349049Z",
     "start_time": "2020-03-16T22:41:12.325044Z"
    }
   },
   "outputs": [],
   "source": [
    "reddit = praw.Reddit(client_id='', \n",
    "                     client_secret='', \n",
    "                     user_agent='',\n",
    "                     redirect_url = 'http://localhost:8080',\n",
    "                     username='ellafranks',\n",
    "                     password=''\n",
    "                    )"
   ]
  },
  {
   "cell_type": "code",
   "execution_count": 25,
   "metadata": {
    "ExecuteTime": {
     "end_time": "2020-03-16T23:05:12.470242Z",
     "start_time": "2020-03-16T22:49:02.339873Z"
    }
   },
   "outputs": [],
   "source": [
    "subreddit = reddit.subreddit('SuicideWatch')\n",
    "\n",
    "post_comments = []\n",
    "for post in subreddit.top(limit=900):\n",
    "    post.comments.replace_more(limit=None)\n",
    "    for comment in post.comments.list():\n",
    "        for reply in comment.replies.list():\n",
    "            post_comments.append([comment.score, post.title, post.created, post.num_comments, comment.id, comment.parent(), comment.body, comment.depth, comment.edited, comment.total_awards_received, comment.controversiality, \n",
    "                       comment.created, comment.archived,\n",
    "                       reply.body])\n",
    "            sw_updated = pd.DataFrame(post_comments,columns=['comment_score', 'post_title', 'parent_created', 'num_parent_comments', 'post_id', 'parent_comment', 'comment_body', 'comment_depth', 'comment_edited', 'awards', 'controversial', 'comment_created', 'comment_archived', \n",
    "                                             'replies_to_comment'])"
   ]
  },
  {
   "cell_type": "code",
   "execution_count": 26,
   "metadata": {
    "ExecuteTime": {
     "end_time": "2020-03-16T23:05:12.820830Z",
     "start_time": "2020-03-16T23:05:12.481150Z"
    }
   },
   "outputs": [],
   "source": [
    "sw = sw_updated.to_csv('sw_updated.csv')"
   ]
  }
 ],
 "metadata": {
  "kernelspec": {
   "display_name": "Python 3",
   "language": "python",
   "name": "python3"
  },
  "language_info": {
   "codemirror_mode": {
    "name": "ipython",
    "version": 3
   },
   "file_extension": ".py",
   "mimetype": "text/x-python",
   "name": "python",
   "nbconvert_exporter": "python",
   "pygments_lexer": "ipython3",
   "version": "3.7.4"
  }
 },
 "nbformat": 4,
 "nbformat_minor": 2
}
